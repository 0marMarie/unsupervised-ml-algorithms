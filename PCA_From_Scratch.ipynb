{
 "cells": [
  {
   "cell_type": "markdown",
   "id": "7c1c19cb",
   "metadata": {},
   "source": [
    "# ⤵️ PCA From Scratch"
   ]
  },
  {
   "cell_type": "markdown",
   "id": "66078f87",
   "metadata": {},
   "source": [
    "### Imports"
   ]
  },
  {
   "cell_type": "code",
   "execution_count": 1,
   "id": "31976d6b",
   "metadata": {},
   "outputs": [],
   "source": [
    "import numpy as np\n",
    "import pandas as pd\n",
    "import matplotlib.pyplot as plt"
   ]
  },
  {
   "cell_type": "markdown",
   "id": "aa793d8d",
   "metadata": {},
   "source": [
    "### Read Data"
   ]
  },
  {
   "cell_type": "code",
   "execution_count": 2,
   "id": "eda2c288",
   "metadata": {},
   "outputs": [],
   "source": [
    "X = pd.read_csv(\"./Day 1/prepared_data.csv\")\n",
    "y = X['BALANCE']\n",
    "X.drop('BALANCE', inplace=True, axis=1)"
   ]
  },
  {
   "cell_type": "code",
   "execution_count": 3,
   "id": "8ea66da2",
   "metadata": {},
   "outputs": [
    {
     "data": {
      "text/html": [
       "<div>\n",
       "<style scoped>\n",
       "    .dataframe tbody tr th:only-of-type {\n",
       "        vertical-align: middle;\n",
       "    }\n",
       "\n",
       "    .dataframe tbody tr th {\n",
       "        vertical-align: top;\n",
       "    }\n",
       "\n",
       "    .dataframe thead th {\n",
       "        text-align: right;\n",
       "    }\n",
       "</style>\n",
       "<table border=\"1\" class=\"dataframe\">\n",
       "  <thead>\n",
       "    <tr style=\"text-align: right;\">\n",
       "      <th></th>\n",
       "      <th>BALANCE_FREQUENCY</th>\n",
       "      <th>PURCHASES</th>\n",
       "      <th>ONEOFF_PURCHASES</th>\n",
       "      <th>INSTALLMENTS_PURCHASES</th>\n",
       "      <th>CASH_ADVANCE</th>\n",
       "      <th>PURCHASES_FREQUENCY</th>\n",
       "      <th>ONEOFF_PURCHASES_FREQUENCY</th>\n",
       "      <th>PURCHASES_INSTALLMENTS_FREQUENCY</th>\n",
       "      <th>CASH_ADVANCE_FREQUENCY</th>\n",
       "      <th>CASH_ADVANCE_TRX</th>\n",
       "      <th>PURCHASES_TRX</th>\n",
       "      <th>CREDIT_LIMIT</th>\n",
       "      <th>PAYMENTS</th>\n",
       "      <th>MINIMUM_PAYMENTS</th>\n",
       "      <th>PRC_FULL_PAYMENT</th>\n",
       "      <th>TENURE</th>\n",
       "    </tr>\n",
       "  </thead>\n",
       "  <tbody>\n",
       "    <tr>\n",
       "      <th>0</th>\n",
       "      <td>0.818182</td>\n",
       "      <td>95.40</td>\n",
       "      <td>0.00</td>\n",
       "      <td>95.4</td>\n",
       "      <td>0.000000</td>\n",
       "      <td>0.166667</td>\n",
       "      <td>0.000000</td>\n",
       "      <td>0.083333</td>\n",
       "      <td>0.000000</td>\n",
       "      <td>0</td>\n",
       "      <td>2</td>\n",
       "      <td>1000.0</td>\n",
       "      <td>201.802084</td>\n",
       "      <td>139.509787</td>\n",
       "      <td>0.000000</td>\n",
       "      <td>12</td>\n",
       "    </tr>\n",
       "    <tr>\n",
       "      <th>1</th>\n",
       "      <td>0.909091</td>\n",
       "      <td>0.00</td>\n",
       "      <td>0.00</td>\n",
       "      <td>0.0</td>\n",
       "      <td>6442.945483</td>\n",
       "      <td>0.000000</td>\n",
       "      <td>0.000000</td>\n",
       "      <td>0.000000</td>\n",
       "      <td>0.250000</td>\n",
       "      <td>4</td>\n",
       "      <td>0</td>\n",
       "      <td>7000.0</td>\n",
       "      <td>4103.032597</td>\n",
       "      <td>1072.340217</td>\n",
       "      <td>0.222222</td>\n",
       "      <td>12</td>\n",
       "    </tr>\n",
       "    <tr>\n",
       "      <th>2</th>\n",
       "      <td>1.000000</td>\n",
       "      <td>773.17</td>\n",
       "      <td>773.17</td>\n",
       "      <td>0.0</td>\n",
       "      <td>0.000000</td>\n",
       "      <td>1.000000</td>\n",
       "      <td>1.000000</td>\n",
       "      <td>0.000000</td>\n",
       "      <td>0.000000</td>\n",
       "      <td>0</td>\n",
       "      <td>12</td>\n",
       "      <td>7500.0</td>\n",
       "      <td>622.066742</td>\n",
       "      <td>627.284787</td>\n",
       "      <td>0.000000</td>\n",
       "      <td>12</td>\n",
       "    </tr>\n",
       "    <tr>\n",
       "      <th>3</th>\n",
       "      <td>0.636364</td>\n",
       "      <td>1499.00</td>\n",
       "      <td>1499.00</td>\n",
       "      <td>0.0</td>\n",
       "      <td>205.788017</td>\n",
       "      <td>0.083333</td>\n",
       "      <td>0.083333</td>\n",
       "      <td>0.000000</td>\n",
       "      <td>0.083333</td>\n",
       "      <td>1</td>\n",
       "      <td>1</td>\n",
       "      <td>7500.0</td>\n",
       "      <td>0.000000</td>\n",
       "      <td>312.343947</td>\n",
       "      <td>0.000000</td>\n",
       "      <td>12</td>\n",
       "    </tr>\n",
       "    <tr>\n",
       "      <th>4</th>\n",
       "      <td>1.000000</td>\n",
       "      <td>16.00</td>\n",
       "      <td>16.00</td>\n",
       "      <td>0.0</td>\n",
       "      <td>0.000000</td>\n",
       "      <td>0.083333</td>\n",
       "      <td>0.083333</td>\n",
       "      <td>0.000000</td>\n",
       "      <td>0.000000</td>\n",
       "      <td>0</td>\n",
       "      <td>1</td>\n",
       "      <td>1200.0</td>\n",
       "      <td>678.334763</td>\n",
       "      <td>244.791237</td>\n",
       "      <td>0.000000</td>\n",
       "      <td>12</td>\n",
       "    </tr>\n",
       "  </tbody>\n",
       "</table>\n",
       "</div>"
      ],
      "text/plain": [
       "   BALANCE_FREQUENCY  PURCHASES  ONEOFF_PURCHASES  INSTALLMENTS_PURCHASES  \\\n",
       "0           0.818182      95.40              0.00                    95.4   \n",
       "1           0.909091       0.00              0.00                     0.0   \n",
       "2           1.000000     773.17            773.17                     0.0   \n",
       "3           0.636364    1499.00           1499.00                     0.0   \n",
       "4           1.000000      16.00             16.00                     0.0   \n",
       "\n",
       "   CASH_ADVANCE  PURCHASES_FREQUENCY  ONEOFF_PURCHASES_FREQUENCY  \\\n",
       "0      0.000000             0.166667                    0.000000   \n",
       "1   6442.945483             0.000000                    0.000000   \n",
       "2      0.000000             1.000000                    1.000000   \n",
       "3    205.788017             0.083333                    0.083333   \n",
       "4      0.000000             0.083333                    0.083333   \n",
       "\n",
       "   PURCHASES_INSTALLMENTS_FREQUENCY  CASH_ADVANCE_FREQUENCY  CASH_ADVANCE_TRX  \\\n",
       "0                          0.083333                0.000000                 0   \n",
       "1                          0.000000                0.250000                 4   \n",
       "2                          0.000000                0.000000                 0   \n",
       "3                          0.000000                0.083333                 1   \n",
       "4                          0.000000                0.000000                 0   \n",
       "\n",
       "   PURCHASES_TRX  CREDIT_LIMIT     PAYMENTS  MINIMUM_PAYMENTS  \\\n",
       "0              2        1000.0   201.802084        139.509787   \n",
       "1              0        7000.0  4103.032597       1072.340217   \n",
       "2             12        7500.0   622.066742        627.284787   \n",
       "3              1        7500.0     0.000000        312.343947   \n",
       "4              1        1200.0   678.334763        244.791237   \n",
       "\n",
       "   PRC_FULL_PAYMENT  TENURE  \n",
       "0          0.000000      12  \n",
       "1          0.222222      12  \n",
       "2          0.000000      12  \n",
       "3          0.000000      12  \n",
       "4          0.000000      12  "
      ]
     },
     "execution_count": 3,
     "metadata": {},
     "output_type": "execute_result"
    }
   ],
   "source": [
    "X.head()"
   ]
  },
  {
   "cell_type": "code",
   "execution_count": 4,
   "id": "897c423f",
   "metadata": {},
   "outputs": [
    {
     "data": {
      "text/plain": [
       "0      40.900749\n",
       "1    3202.467416\n",
       "2    2495.148862\n",
       "3    1666.670542\n",
       "4     817.714335\n",
       "Name: BALANCE, dtype: float64"
      ]
     },
     "execution_count": 4,
     "metadata": {},
     "output_type": "execute_result"
    }
   ],
   "source": [
    "y.head()"
   ]
  },
  {
   "cell_type": "markdown",
   "id": "d2620e19",
   "metadata": {},
   "source": [
    "### PCA"
   ]
  },
  {
   "cell_type": "code",
   "execution_count": 5,
   "id": "1361badb",
   "metadata": {},
   "outputs": [],
   "source": [
    "class PCA ():\n",
    "\n",
    "    def __init__(self,n_components):\n",
    "        self.n_components = n_components\n",
    "        self.components   = None\n",
    "        self.mean         = None\n",
    "        self.variance     = None\n",
    "        \n",
    "        if self.n_components > 1:\n",
    "            self.type = 'var'\n",
    "        else:\n",
    "            self.type = 'ratio'\n",
    "\n",
    "    def fit(self,X): \n",
    "        # Step 1: Normalization using mean and Variance\n",
    "        self.mean = np.mean(X)\n",
    "        self.variance = np.var(X)\n",
    "        \n",
    "        X -= self.mean\n",
    "        X /= self.variance\n",
    "        \n",
    "        # Step 2: Covariance\n",
    "        cov_matrix = np.cov(np.transpose(X))\n",
    "        \n",
    "        # Step 3: Eigen vector and Eigen values\n",
    "        values, vectors = np.linalg.eig(cov_matrix)\n",
    "        vectors = np.transpose(vectors)\n",
    "\n",
    "        # Step 4: Sort values \n",
    "        indexes = np.argsort(values)[::-1]\n",
    "        values  = values[indexes]\n",
    "        vectors = vectors[indexes]\n",
    "        \n",
    "        # Store eigne vectors first n \n",
    "        self.components = vectors[0: self.n_components]\n",
    "        \n",
    "    def transform(self,Z):\n",
    "        # Projections\n",
    "        Z_new = (Z - self.mean )/ self.variance\n",
    "        Z_new = np.dot(Z_new, self.components.T)\n",
    "\n",
    "        return Z_new\n",
    "\n",
    "    #optional \n",
    "    def plot_explained_variance(self, transformed):\n",
    "        pass        "
   ]
  },
  {
   "cell_type": "markdown",
   "id": "1b954b14",
   "metadata": {},
   "source": [
    "### Call PCA"
   ]
  },
  {
   "cell_type": "code",
   "execution_count": 6,
   "id": "17bf3e8a",
   "metadata": {},
   "outputs": [
    {
     "name": "stderr",
     "output_type": "stream",
     "text": [
      "/Users/omarmarie/miniforge3/lib/python3.9/site-packages/numpy/core/fromnumeric.py:3472: FutureWarning: In a future version, DataFrame.mean(axis=None) will return a scalar mean over the entire DataFrame. To retain the old behavior, use 'frame.mean(axis=0)' or just 'frame.mean()'\n",
      "  return mean(axis=axis, dtype=dtype, out=out, **kwargs)\n"
     ]
    }
   ],
   "source": [
    "pca_section = PCA(4)\n",
    "pca_section.fit(X)\n",
    "X_transformed = pca_section.transform(X)\n",
    "# pca_section.explained_variance #return list len = 4"
   ]
  },
  {
   "cell_type": "code",
   "execution_count": 7,
   "id": "4375ef4f",
   "metadata": {},
   "outputs": [
    {
     "data": {
      "text/plain": [
       "array([[ 2.20974751e-01, -1.90280924e-05, -1.76816022e-05,\n",
       "        -4.66773984e-05,  5.20959269e-05, -2.24651206e-01,\n",
       "        -1.47721477e-01, -1.93509693e-01,  8.67949354e-01,\n",
       "         1.98776811e-02, -1.91225787e-03,  3.39218819e-06,\n",
       "         6.09718142e-06,  1.00120176e-05, -2.95787075e-01,\n",
       "        -1.44740951e-02],\n",
       "       [ 7.91049113e-01,  3.81397259e-05,  4.04677546e-05,\n",
       "         7.65599460e-05,  3.68492871e-07,  3.44968095e-01,\n",
       "         4.16514928e-01,  2.63239740e-01,  5.08519368e-02,\n",
       "         1.63626974e-03,  4.30036210e-03,  1.21104494e-05,\n",
       "         1.29006877e-05,  8.29011975e-06,  9.70094779e-02,\n",
       "         2.09888051e-02],\n",
       "       [-4.05835509e-01,  2.98577707e-05,  3.55704705e-05,\n",
       "         4.68288293e-05,  2.83798394e-05,  1.86464222e-01,\n",
       "         3.33290977e-01,  1.10059373e-01,  4.63597220e-01,\n",
       "         1.26867107e-02,  2.66438429e-03,  1.59900095e-05,\n",
       "         2.73919584e-05, -1.20828286e-05,  6.79307772e-01,\n",
       "        -2.79857853e-02],\n",
       "       [ 2.91118559e-01, -3.62382663e-05, -6.51936635e-05,\n",
       "         1.74186635e-05,  1.58703586e-06, -3.79200223e-02,\n",
       "        -7.72817985e-01,  2.03285275e-01,  8.49155504e-03,\n",
       "         2.53692594e-04, -3.07829498e-03, -1.62174537e-05,\n",
       "        -1.20562469e-05,  4.51191799e-07,  5.24516922e-01,\n",
       "        -6.31356620e-03]])"
      ]
     },
     "execution_count": 7,
     "metadata": {},
     "output_type": "execute_result"
    }
   ],
   "source": [
    "#return matrix (n,4)\n",
    "pca_section.components "
   ]
  },
  {
   "cell_type": "code",
   "execution_count": 8,
   "id": "4ae40dd9",
   "metadata": {},
   "outputs": [
    {
     "data": {
      "text/plain": [
       "array([[-66.62058159, -54.53242563, -55.65724896,  -3.33539692],\n",
       "       [ 68.18468456, -23.91781853,  23.96718754,  21.88438216],\n",
       "       [-79.08281356,  53.92947848, -31.38532094, -86.0022351 ],\n",
       "       ...,\n",
       "       [-85.93176459, -32.43316455, -26.9867919 ,  19.77442727],\n",
       "       [ 16.66707015, -45.26158299,  12.26863688,  16.44249184],\n",
       "       [ 87.08221493, -41.23227693,  91.57148154, -82.0267187 ]])"
      ]
     },
     "execution_count": 8,
     "metadata": {},
     "output_type": "execute_result"
    }
   ],
   "source": [
    "X_transformed"
   ]
  },
  {
   "cell_type": "code",
   "execution_count": 9,
   "id": "fe69a0bc",
   "metadata": {},
   "outputs": [
    {
     "name": "stdout",
     "output_type": "stream",
     "text": [
      "Dimentionality Reduction from 16 dimentions to 4 dimentions\n"
     ]
    }
   ],
   "source": [
    "print(f\"Dimentionality Reduction from {X.shape[1]} dimentions \\\n",
    "to {X_transformed.shape[1]} dimentions\")"
   ]
  }
 ],
 "metadata": {
  "kernelspec": {
   "display_name": "Python 3 (ipykernel)",
   "language": "python",
   "name": "python3"
  },
  "language_info": {
   "codemirror_mode": {
    "name": "ipython",
    "version": 3
   },
   "file_extension": ".py",
   "mimetype": "text/x-python",
   "name": "python",
   "nbconvert_exporter": "python",
   "pygments_lexer": "ipython3",
   "version": "3.9.10"
  }
 },
 "nbformat": 4,
 "nbformat_minor": 5
}
